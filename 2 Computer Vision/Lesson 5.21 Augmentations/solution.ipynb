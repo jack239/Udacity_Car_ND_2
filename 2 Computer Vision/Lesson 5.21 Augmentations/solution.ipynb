{
 "cells": [
  {
   "cell_type": "code",
   "execution_count": null,
   "metadata": {},
   "outputs": [],
   "source": [
    "import argparse\n",
    "from functools import partial\n",
    "\n",
    "import albumentations as A\n",
    "import matplotlib.pyplot as plt\n",
    "import numpy as np\n",
    "import tensorflow as tf\n",
    "from tensorflow.keras.preprocessing import image_dataset_from_directory\n",
    "\n",
    "from utils import plot_batch\n"
   ]
  },
  {
   "cell_type": "code",
   "execution_count": null,
   "metadata": {},
   "outputs": [],
   "source": [
    "transforms = A.Compose([A.Rotate(limit=30, p=0.5),\n",
    "                        A.Blur(blur_limit=5, p=0.5)])\n",
    "def aug_fn(image):\n",
    "    \"\"\" augment an image \"\"\"\n",
    "    aug_data = transforms(image=image.squeeze())\n",
    "    aug_img = aug_data[\"image\"]\n",
    "    aug_img = tf.cast(aug_img/255.0, tf.float32)\n",
    "    return aug_img\n",
    "\n",
    "\n",
    "def process_data(image, label):\n",
    "    \"\"\" wrapper function to apply augmentation \"\"\"\n",
    "    aug_img = tf.numpy_function(func=aug_fn, inp=[image], Tout=tf.float32)\n",
    "    return aug_img, label\n",
    "\n",
    "\n",
    "\n",
    "    # APPLY AUGMENTATIONS AND DISPLAY BATCHES\n",
    "        "
   ]
  },
  {
   "cell_type": "code",
   "execution_count": null,
   "metadata": {},
   "outputs": [],
   "source": [
    "imdir = \"GTSRB/Final_Training/Images/\"\n",
    "\n",
    "dataset = image_dataset_from_directory(\n",
    "    imdir, \n",
    "    image_size=(32, 32),\n",
    "    validation_split=0.1,\n",
    "    subset='training',\n",
    "    seed=123,\n",
    "    batch_size=1)\n",
    "dataset = dataset.map(process_data).batch(256)"
   ]
  },
  {
   "cell_type": "code",
   "execution_count": null,
   "metadata": {},
   "outputs": [],
   "source": [
    "for X,Y in dataset:\n",
    "    batch_np = X.numpy()\n",
    "    plot_batch(batch_np)\n",
    "    break"
   ]
  },
  {
   "cell_type": "code",
   "execution_count": null,
   "metadata": {},
   "outputs": [],
   "source": []
  }
 ],
 "metadata": {
  "kernelspec": {
   "display_name": "Python 3",
   "language": "python",
   "name": "python3"
  },
  "language_info": {
   "codemirror_mode": {
    "name": "ipython",
    "version": 3
   },
   "file_extension": ".py",
   "mimetype": "text/x-python",
   "name": "python",
   "nbconvert_exporter": "python",
   "pygments_lexer": "ipython3",
   "version": "3.8.10"
  }
 },
 "nbformat": 4,
 "nbformat_minor": 4
}
